{
 "cells": [
  {
   "cell_type": "code",
   "execution_count": 4,
   "source": [
    "# TensorFlow and tf.keras\r\n",
    "import tensorflow as tf\r\n",
    "from tensorflow import keras\r\n",
    "from tensorflow.keras.layers import Conv2D, MaxPooling2D, Dropout, Flatten, Dense\r\n",
    "\r\n",
    "# Commonly used modules\r\n",
    "import numpy as np\r\n",
    "import os\r\n",
    "import sys\r\n",
    "\r\n",
    "# Images, plots, display, and visualization\r\n",
    "import matplotlib.pyplot as plt\r\n",
    "import pandas as pd\r\n",
    "import seaborn as sns\r\n",
    "import cv2\r\n",
    "import IPython\r\n",
    "from six.moves import urllib\r\n",
    "\r\n",
    "print(tf.__version__)"
   ],
   "outputs": [
    {
     "output_type": "stream",
     "name": "stdout",
     "text": [
      "2.6.0\n"
     ]
    }
   ],
   "metadata": {}
  },
  {
   "cell_type": "code",
   "execution_count": null,
   "source": [
    "for epochs in range(25000):\r\n",
    "    inputs = input_set\r\n",
    "    XW = np.dot(inputs, weights)+bias\r\n",
    "    z = sigmoid(XW)\r\n",
    "    error = z - labels\r\n",
    "    print(error.sum())\r\n",
    "\r\n",
    "    dcost = error\r\n",
    "    dpred = sigmoid_derivative(z)\r\n",
    "    z_del = dcost * dpred\r\n",
    "    inputs = input_set.T\r\n",
    "    weights = weights - lr*np.dot(inputs, z_del)\r\n",
    "    "
   ],
   "outputs": [],
   "metadata": {}
  }
 ],
 "metadata": {
  "orig_nbformat": 4,
  "language_info": {
   "name": "python",
   "version": "3.9.5",
   "mimetype": "text/x-python",
   "codemirror_mode": {
    "name": "ipython",
    "version": 3
   },
   "pygments_lexer": "ipython3",
   "nbconvert_exporter": "python",
   "file_extension": ".py"
  },
  "kernelspec": {
   "name": "python3",
   "display_name": "Python 3.9.5 64-bit"
  },
  "interpreter": {
   "hash": "63fd5069d213b44bf678585dea6b12cceca9941eaf7f819626cde1f2670de90d"
  }
 },
 "nbformat": 4,
 "nbformat_minor": 2
}