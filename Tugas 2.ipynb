{
 "cells": [
  {
   "cell_type": "code",
   "execution_count": 1,
   "metadata": {},
   "outputs": [
    {
     "name": "stdout",
     "output_type": "stream",
     "text": [
      "Entong - Gagal, usia tidak memenuhi tidak memenuhi kriteria\n",
      "Eneng  - Lolos\n",
      "Bobby - Gagal, jumlah tabungan perbulan tidak memenuhi tidak memenuhi kriteria\n",
      "Amir - Gagal, usia tidak memenuhi tidak memenuhi kriteria\n",
      "Eneng - Gagal, jumlah tabungan perbulan tidak memenuhi tidak memenuhi kriteria\n"
     ]
    }
   ],
   "source": [
    "calon_anggota = [\n",
    "    { \n",
    "        'nama': \"Entong\",\n",
    "        'jml_tabungan': 12000,\n",
    "        'usia': 16\n",
    "    },\n",
    "    {\n",
    "        'nama': \"Eneng\",\n",
    "        'jml_tabungan': 10000,\n",
    "        'usia': 17\n",
    "    },\n",
    "    {\n",
    "        'nama': \"Bobby\",\n",
    "        'jml_tabungan': 9000,\n",
    "        'usia': 25\n",
    "    },\n",
    "    {\n",
    "        'nama': \"Amir\",\n",
    "        'jml_tabungan': 15000,\n",
    "        'usia': 26\n",
    "    },\n",
    "    {\n",
    "        'nama': \"Eneng\",\n",
    "        'jml_tabungan': 9900,\n",
    "        'usia': 23\n",
    "    }\n",
    "]\n",
    "\n",
    "for x in calon_anggota:\n",
    "    if x['jml_tabungan'] >= 10000:\n",
    "        if x['usia'] >= 17 and x['usia'] <= 25:\n",
    "            print(x['nama'], \" - Lolos\")\n",
    "        else:\n",
    "            print(x['nama'], \"- Gagal, usia tidak memenuhi tidak memenuhi kriteria\")\n",
    "    else:\n",
    "        print(x['nama'], \"- Gagal, jumlah tabungan perbulan tidak memenuhi tidak memenuhi kriteria\")"
   ]
  },
  {
   "cell_type": "code",
   "execution_count": 1,
   "metadata": {},
   "outputs": [
    {
     "name": "stdout",
     "output_type": "stream",
     "text": [
      "Hello\n",
      "Dunia\n"
     ]
    }
   ],
   "source": [
    "print ('Hello')\n",
    "print (\"Dunia\")"
   ]
  },
  {
   "cell_type": "code",
   "execution_count": 2,
   "metadata": {},
   "outputs": [
    {
     "name": "stdout",
     "output_type": "stream",
     "text": [
      "Luas = panjang * lebar\n"
     ]
    }
   ],
   "source": [
    "print ('Luas = panjang * lebar')"
   ]
  },
  {
   "cell_type": "code",
   "execution_count": 3,
   "metadata": {},
   "outputs": [
    {
     "name": "stdout",
     "output_type": "stream",
     "text": [
      "Volume = panjang * lebar * tinggi\n"
     ]
    }
   ],
   "source": [
    "print ('Volume = panjang * lebar * tinggi')"
   ]
  },
  {
   "cell_type": "code",
   "execution_count": 4,
   "metadata": {},
   "outputs": [
    {
     "name": "stdout",
     "output_type": "stream",
     "text": [
      "['Senin', 'Selasa', 'Rabu', 'Kamis', 'Jum`at', 'Sabtu', 'Minggu']\n"
     ]
    }
   ],
   "source": [
    "nama_hari = ['Senin', 'Selasa', 'Rabu', 'Kamis', 'Jum`at', 'Sabtu', 'Minggu']\n",
    "\n",
    "print (nama_hari)"
   ]
  },
  {
   "cell_type": "code",
   "execution_count": 5,
   "metadata": {},
   "outputs": [
    {
     "name": "stdout",
     "output_type": "stream",
     "text": [
      "usia memenuhi syarat\n",
      "Dapat mengambil KTP\n"
     ]
    }
   ],
   "source": [
    "usia = 21\n",
    "\n",
    "if usia >= 18:\n",
    "    print('usia memenuhi syarat')\n",
    "    print('Dapat mengambil KTP')\n",
    "else:\n",
    "    print('Belum cukup umur')\n",
    "    print('tunggu ', 18 - usia, ' tahun lagi')"
   ]
  },
  {
   "cell_type": "code",
   "execution_count": 6,
   "metadata": {},
   "outputs": [
    {
     "name": "stdout",
     "output_type": "stream",
     "text": [
      "Wibisana\n",
      "Putra\n",
      "\"Berikut ini adalah alinea \n",
      "yang terdiri dari beberapa baris\n"
     ]
    }
   ],
   "source": [
    "namaDepan = 'Wibisana'\n",
    "namaBelakang = \"Putra\"\n",
    "alinea = \"\"\"\"Berikut ini adalah alinea \n",
    "yang terdiri dari beberapa baris\"\"\"\n",
    "\n",
    "print (namaDepan)\n",
    "print (namaBelakang)\n",
    "print (alinea)"
   ]
  },
  {
   "cell_type": "code",
   "execution_count": 8,
   "metadata": {},
   "outputs": [
    {
     "name": "stdout",
     "output_type": "stream",
     "text": [
      "105\n",
      "225\n"
     ]
    }
   ],
   "source": [
    "luas1 = 15 * 7\n",
    "\n",
    "print (luas1)\n",
    "\n",
    "luas2 = 15 * 15\n",
    "#Print (luas2)\n",
    "#PRINT (luas2)\n",
    "print (luas2)"
   ]
  },
  {
   "cell_type": "code",
   "execution_count": 9,
   "metadata": {},
   "outputs": [
    {
     "name": "stdout",
     "output_type": "stream",
     "text": [
      "45\n"
     ]
    }
   ],
   "source": [
    "#panjang * lebar\n",
    "panjang = 15\n",
    "lebar = 3\n",
    "luas = panjang * lebar\n",
    "\n",
    "print (luas)"
   ]
  },
  {
   "cell_type": "code",
   "execution_count": null,
   "metadata": {},
   "outputs": [],
   "source": []
  }
 ],
 "metadata": {
  "kernelspec": {
   "display_name": "Python 3",
   "language": "python",
   "name": "python3"
  },
  "language_info": {
   "codemirror_mode": {
    "name": "ipython",
    "version": 3
   },
   "file_extension": ".py",
   "mimetype": "text/x-python",
   "name": "python",
   "nbconvert_exporter": "python",
   "pygments_lexer": "ipython3",
   "version": "3.8.3"
  }
 },
 "nbformat": 4,
 "nbformat_minor": 4
}
