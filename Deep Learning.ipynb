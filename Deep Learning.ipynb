{
 "cells": [
  {
   "cell_type": "code",
   "execution_count": 2,
   "source": [
    "from tensorflow.keras import Sequential\r\n",
    "from tensorflow.keras.layers import Dense\r\n",
    "# define the model\r\n",
    "model = Sequential()\r\n",
    "model.add(Dense(10, input_shape=(8,)))\r\n",
    "model.add(Dense(1))"
   ],
   "outputs": [],
   "metadata": {}
  },
  {
   "cell_type": "code",
   "execution_count": 3,
   "source": [
    "from tensorflow.keras import Sequential\r\n",
    "from tensorflow.keras.layers import Dense\r\n",
    "# define the model\r\n",
    "model = Sequential()\r\n",
    "model.add(Dense(100, input_shape=(10,)))\r\n",
    "model.add(Dense(80))\r\n",
    "model.add(Dense(30))\r\n",
    "model.add(Dense(10))\r\n",
    "model.add(Dense(5))\r\n",
    "model.add(Dense(1))"
   ],
   "outputs": [],
   "metadata": {}
  },
  {
   "cell_type": "code",
   "execution_count": 4,
   "source": [
    "from tensorflow.keras import Model\r\n",
    "from tensorflow.keras import Input\r\n",
    "from tensorflow.keras.layers import Dense\r\n",
    "# define the layers\r\n",
    "x_in = Input(shape=(8,))\r\n",
    "x = Dense(10)(x_in)\r\n",
    "x_out = Dense(1)(x)\r\n",
    "# define the model\r\n",
    "model = Model(inputs=x_in, outputs=x_out)"
   ],
   "outputs": [],
   "metadata": {}
  },
  {
   "cell_type": "code",
   "execution_count": 5,
   "source": [
    "from numpy import argmax\r\n",
    "from pandas import read_csv\r\n",
    "from sklearn.model_selection import train_test_split\r\n",
    "from sklearn.preprocessing import LabelEncoder\r\n",
    "from tensorflow.keras import Sequential\r\n",
    "from tensorflow.keras.layers import Dense"
   ],
   "outputs": [],
   "metadata": {}
  },
  {
   "cell_type": "code",
   "execution_count": 6,
   "source": [
    "path = 'https://raw.githubusercontent.com/achmatim/data-mining/main/Dataset/iris.csv'\r\n",
    "df = read_csv(path)\r\n",
    "\r\n",
    "df"
   ],
   "outputs": [
    {
     "output_type": "execute_result",
     "data": {
      "text/html": [
       "<div>\n",
       "<style scoped>\n",
       "    .dataframe tbody tr th:only-of-type {\n",
       "        vertical-align: middle;\n",
       "    }\n",
       "\n",
       "    .dataframe tbody tr th {\n",
       "        vertical-align: top;\n",
       "    }\n",
       "\n",
       "    .dataframe thead th {\n",
       "        text-align: right;\n",
       "    }\n",
       "</style>\n",
       "<table border=\"1\" class=\"dataframe\">\n",
       "  <thead>\n",
       "    <tr style=\"text-align: right;\">\n",
       "      <th></th>\n",
       "      <th>SepalLengthCm</th>\n",
       "      <th>SepalWidthCm</th>\n",
       "      <th>PetalLengthCm</th>\n",
       "      <th>PetalWidthCm</th>\n",
       "      <th>Label</th>\n",
       "    </tr>\n",
       "  </thead>\n",
       "  <tbody>\n",
       "    <tr>\n",
       "      <th>0</th>\n",
       "      <td>5.1</td>\n",
       "      <td>3.5</td>\n",
       "      <td>1.4</td>\n",
       "      <td>0.2</td>\n",
       "      <td>Iris-setosa</td>\n",
       "    </tr>\n",
       "    <tr>\n",
       "      <th>1</th>\n",
       "      <td>4.9</td>\n",
       "      <td>3.0</td>\n",
       "      <td>1.4</td>\n",
       "      <td>0.2</td>\n",
       "      <td>Iris-setosa</td>\n",
       "    </tr>\n",
       "    <tr>\n",
       "      <th>2</th>\n",
       "      <td>4.7</td>\n",
       "      <td>3.2</td>\n",
       "      <td>1.3</td>\n",
       "      <td>0.2</td>\n",
       "      <td>Iris-setosa</td>\n",
       "    </tr>\n",
       "    <tr>\n",
       "      <th>3</th>\n",
       "      <td>4.6</td>\n",
       "      <td>3.1</td>\n",
       "      <td>1.5</td>\n",
       "      <td>0.2</td>\n",
       "      <td>Iris-setosa</td>\n",
       "    </tr>\n",
       "    <tr>\n",
       "      <th>4</th>\n",
       "      <td>5.0</td>\n",
       "      <td>3.6</td>\n",
       "      <td>1.4</td>\n",
       "      <td>0.2</td>\n",
       "      <td>Iris-setosa</td>\n",
       "    </tr>\n",
       "    <tr>\n",
       "      <th>...</th>\n",
       "      <td>...</td>\n",
       "      <td>...</td>\n",
       "      <td>...</td>\n",
       "      <td>...</td>\n",
       "      <td>...</td>\n",
       "    </tr>\n",
       "    <tr>\n",
       "      <th>145</th>\n",
       "      <td>6.7</td>\n",
       "      <td>3.0</td>\n",
       "      <td>5.2</td>\n",
       "      <td>2.3</td>\n",
       "      <td>Iris-virginica</td>\n",
       "    </tr>\n",
       "    <tr>\n",
       "      <th>146</th>\n",
       "      <td>6.3</td>\n",
       "      <td>2.5</td>\n",
       "      <td>5.0</td>\n",
       "      <td>1.9</td>\n",
       "      <td>Iris-virginica</td>\n",
       "    </tr>\n",
       "    <tr>\n",
       "      <th>147</th>\n",
       "      <td>6.5</td>\n",
       "      <td>3.0</td>\n",
       "      <td>5.2</td>\n",
       "      <td>2.0</td>\n",
       "      <td>Iris-virginica</td>\n",
       "    </tr>\n",
       "    <tr>\n",
       "      <th>148</th>\n",
       "      <td>6.2</td>\n",
       "      <td>3.4</td>\n",
       "      <td>5.4</td>\n",
       "      <td>2.3</td>\n",
       "      <td>Iris-virginica</td>\n",
       "    </tr>\n",
       "    <tr>\n",
       "      <th>149</th>\n",
       "      <td>5.9</td>\n",
       "      <td>3.0</td>\n",
       "      <td>5.1</td>\n",
       "      <td>1.8</td>\n",
       "      <td>Iris-virginica</td>\n",
       "    </tr>\n",
       "  </tbody>\n",
       "</table>\n",
       "<p>150 rows × 5 columns</p>\n",
       "</div>"
      ],
      "text/plain": [
       "     SepalLengthCm  SepalWidthCm  PetalLengthCm  PetalWidthCm           Label\n",
       "0              5.1           3.5            1.4           0.2     Iris-setosa\n",
       "1              4.9           3.0            1.4           0.2     Iris-setosa\n",
       "2              4.7           3.2            1.3           0.2     Iris-setosa\n",
       "3              4.6           3.1            1.5           0.2     Iris-setosa\n",
       "4              5.0           3.6            1.4           0.2     Iris-setosa\n",
       "..             ...           ...            ...           ...             ...\n",
       "145            6.7           3.0            5.2           2.3  Iris-virginica\n",
       "146            6.3           2.5            5.0           1.9  Iris-virginica\n",
       "147            6.5           3.0            5.2           2.0  Iris-virginica\n",
       "148            6.2           3.4            5.4           2.3  Iris-virginica\n",
       "149            5.9           3.0            5.1           1.8  Iris-virginica\n",
       "\n",
       "[150 rows x 5 columns]"
      ]
     },
     "metadata": {},
     "execution_count": 6
    }
   ],
   "metadata": {}
  },
  {
   "cell_type": "code",
   "execution_count": 7,
   "source": [
    "# split data \r\n",
    "X, y = df.values[:, :-1], df.values[:, -1]\r\n",
    "# ubah tipe data menjadi float32\r\n",
    "X = X.astype('float32')\r\n",
    "\r\n",
    "# encode string menjadi integer\r\n",
    "y = LabelEncoder().fit_transform(y)\r\n",
    "\r\n",
    "# split dataset menjadi 80% data training dan 20% data testing\r\n",
    "X_train, X_test, y_train, y_test = train_test_split(X, y, test_size=0.2)\r\n",
    "print(X_train.shape, X_test.shape, y_train.shape, y_test.shape)\r\n",
    "\r\n",
    "# memperoleh banyaknya jumlah fitur pada input\r\n",
    "n_features = X_train.shape[1]"
   ],
   "outputs": [
    {
     "output_type": "stream",
     "name": "stdout",
     "text": [
      "(120, 4) (30, 4) (120,) (30,)\n"
     ]
    }
   ],
   "metadata": {}
  },
  {
   "cell_type": "code",
   "execution_count": 8,
   "source": [
    "# TODO 1 : Ketik kode di atas pada cell ini\r\n",
    "# define the model\r\n",
    "model = Sequential()\r\n",
    "model.add(Dense(10, activation ='relu', input_shape=(n_features,)))\r\n",
    "model.add(Dense(10, activation ='relu',))\r\n",
    "model.add(Dense(3, activation ='sigmoid'))"
   ],
   "outputs": [],
   "metadata": {}
  },
  {
   "cell_type": "code",
   "execution_count": 9,
   "source": [
    "model.compile(optimizer='adam', loss='sparse_categorical_crossentropy', metrics=['accuracy'])"
   ],
   "outputs": [],
   "metadata": {}
  },
  {
   "cell_type": "code",
   "execution_count": 10,
   "source": [
    "model.fit(X_train, y_train, epochs=150, batch_size=32, verbose=0)"
   ],
   "outputs": [
    {
     "output_type": "execute_result",
     "data": {
      "text/plain": [
       "<keras.callbacks.History at 0x2599dc09490>"
      ]
     },
     "metadata": {},
     "execution_count": 10
    }
   ],
   "metadata": {}
  },
  {
   "cell_type": "code",
   "execution_count": 11,
   "source": [
    "loss, acc = model.evaluate(X_test, y_test, verbose=0)\r\n",
    "print('Tes Accuracy: %.3f' % acc)"
   ],
   "outputs": [
    {
     "output_type": "stream",
     "name": "stdout",
     "text": [
      "Tes Accuracy: 0.967\n"
     ]
    }
   ],
   "metadata": {}
  },
  {
   "cell_type": "code",
   "execution_count": 12,
   "source": [
    "row = [5.1, 3.5, 1.4, 0.2]\r\n",
    "yhat = model.predict([row])\r\n",
    "print('Predicted %s (class=%d)' % (yhat, argmax(yhat)))"
   ],
   "outputs": [
    {
     "output_type": "stream",
     "name": "stdout",
     "text": [
      "Predicted [[0.99497473 0.7971073  0.00292188]] (class=0)\n"
     ]
    }
   ],
   "metadata": {}
  },
  {
   "cell_type": "markdown",
   "source": [
    "Visual Deep Learning Model"
   ],
   "metadata": {}
  },
  {
   "cell_type": "code",
   "execution_count": 13,
   "source": [
    "# Contoh \r\n",
    "from tensorflow.keras.layers import Dense\r\n",
    "# define model1\r\n",
    "model1 = Sequential()\r\n",
    "model1.add(Dense(100, input_shape=(10,)))\r\n",
    "model1.add(Dense(80))\r\n",
    "model1.add(Dense(30))\r\n",
    "model1.add(Dense(10))\r\n",
    "model1.add(Dense(5))\r\n",
    "model1.add(Dense(1))"
   ],
   "outputs": [],
   "metadata": {}
  },
  {
   "cell_type": "code",
   "execution_count": 14,
   "source": [
    "model1.summary()"
   ],
   "outputs": [
    {
     "output_type": "stream",
     "name": "stdout",
     "text": [
      "Model: \"sequential_3\"\n",
      "_________________________________________________________________\n",
      "Layer (type)                 Output Shape              Param #   \n",
      "=================================================================\n",
      "dense_13 (Dense)             (None, 100)               1100      \n",
      "_________________________________________________________________\n",
      "dense_14 (Dense)             (None, 80)                8080      \n",
      "_________________________________________________________________\n",
      "dense_15 (Dense)             (None, 30)                2430      \n",
      "_________________________________________________________________\n",
      "dense_16 (Dense)             (None, 10)                310       \n",
      "_________________________________________________________________\n",
      "dense_17 (Dense)             (None, 5)                 55        \n",
      "_________________________________________________________________\n",
      "dense_18 (Dense)             (None, 1)                 6         \n",
      "=================================================================\n",
      "Total params: 11,981\n",
      "Trainable params: 11,981\n",
      "Non-trainable params: 0\n",
      "_________________________________________________________________\n"
     ]
    }
   ],
   "metadata": {}
  },
  {
   "cell_type": "code",
   "execution_count": 15,
   "source": [
    "# Contoh model architecture plot\r\n",
    "from tensorflow.keras.utils import plot_model\r\n",
    "# summarize model 1\r\n",
    "plot_model(model1, 'model_1_summary.png', show_shapes=True)"
   ],
   "outputs": [
    {
     "output_type": "execute_result",
     "data": {
      "image/png": "[encoded data removed]",
      "text/plain": [
       "<IPython.core.display.Image object>"
      ]
     },
     "metadata": {},
     "execution_count": 15
    }
   ],
   "metadata": {}
  },
  {
   "cell_type": "code",
   "execution_count": 16,
   "source": [
    "# Contoh plotting learning curves\r\n",
    "# define model 2 \r\n",
    "model2 = Sequential()\r\n",
    "model2.add(Dense(10, activation='relu', input_shape=(n_features,)))\r\n",
    "model2.add(Dense(8, activation='relu', ))\r\n",
    "model2.add(Dense(3, activation='softmax'))\r\n",
    "\r\n",
    "# compile model 2\r\n",
    "model2.compile(optimizer='adam', loss='sparse_categorical_crossentropy', metrics=['accuracy'])\r\n",
    "\r\n",
    "# fit model 2\r\n",
    "history = model2.fit(X_train, y_train, epochs=150, batch_size=32, verbose=0,validation_split=0.3)"
   ],
   "outputs": [],
   "metadata": {}
  },
  {
   "cell_type": "code",
   "execution_count": 17,
   "source": [
    "from matplotlib import pyplot\r\n",
    "# plot learning curves\r\n",
    "pyplot.title('Learning Curves')\r\n",
    "pyplot.xlabel('Epoch')\r\n",
    "pyplot.ylabel('Loss function')\r\n",
    "pyplot.plot(history.history['loss'], label='train')\r\n",
    "pyplot.plot(history.history['val_loss'], label='val')\r\n",
    "pyplot.legend()\r\n",
    "pyplot.show()"
   ],
   "outputs": [
    {
     "output_type": "display_data",
     "data": {
      "image/png": "[encoded data removed]",
      "text/plain": [
       "<Figure size 432x288 with 1 Axes>"
      ]
     },
     "metadata": {
      "needs_background": "light"
     }
    }
   ],
   "metadata": {}
  },
  {
   "cell_type": "code",
   "execution_count": 18,
   "source": [
    "model2.save('model_2.h5')"
   ],
   "outputs": [],
   "metadata": {}
  },
  {
   "cell_type": "code",
   "execution_count": 20,
   "source": [
    "from tensorflow.keras.models import load_model\r\n",
    "# load model 2 untuk digunakan lagi dari file\r\n",
    "model3 = load_model('model_2.h5')\r\n",
    "\r\n",
    "loss, acc = model3.evaluate(X_test, y_test, verbose=0)\r\n",
    "print('Test Accuracy_model_3: %.3f' % acc)\r\n",
    "\r\n",
    "# Buat prediksi\r\n",
    "row = [0.1,0.5,7.4,7.2]\r\n",
    "yhat = model3.predict([row])\r\n",
    "print('Predicted: %s (class=%d)' % (yhat, argmax(yhat)))"
   ],
   "outputs": [
    {
     "output_type": "stream",
     "name": "stdout",
     "text": [
      "Test Accuracy_model_3: 0.967\n",
      "Predicted: [[1.1749293e-05 5.4460256e-03 9.9454224e-01]] (class=2)\n"
     ]
    }
   ],
   "metadata": {}
  },
  {
   "cell_type": "code",
   "execution_count": 21,
   "source": [
    "from tensorflow.keras.layers import Dropout\r\n",
    "\r\n",
    "model = Sequential()\r\n",
    "model.add(Dense(100, input_shape=(10,)))\r\n",
    "model.add(Dropout(0.5))\r\n",
    "model.add(Dense(80))\r\n",
    "model.add(Dropout(0.5))\r\n",
    "model.add(Dense(30))\r\n",
    "model.add(Dropout(0.5))\r\n",
    "model.add(Dense(10))\r\n",
    "model.add(Dropout(0.5))\r\n",
    "model.add(Dense(5))\r\n",
    "model.add(Dense(1))"
   ],
   "outputs": [],
   "metadata": {}
  },
  {
   "cell_type": "code",
   "execution_count": 22,
   "source": [
    "from tensorflow.keras.layers import BatchNormalization\r\n",
    "\r\n",
    "model = Sequential()\r\n",
    "model.add(Dense(100, input_shape=(10,)))\r\n",
    "model.add(Dense(80))\r\n",
    "model.add(BatchNormalization())\r\n",
    "model.add(Dense(30))\r\n",
    "model.add(BatchNormalization())\r\n",
    "model.add(Dense(10))\r\n",
    "model.add(BatchNormalization())\r\n",
    "model.add(Dense(5))\r\n",
    "model.add(Dense(1))"
   ],
   "outputs": [],
   "metadata": {}
  },
  {
   "cell_type": "code",
   "execution_count": null,
   "source": [],
   "outputs": [],
   "metadata": {}
  }
 ],
 "metadata": {
  "orig_nbformat": 4,
  "language_info": {
   "name": "python",
   "version": "3.9.5",
   "mimetype": "text/x-python",
   "codemirror_mode": {
    "name": "ipython",
    "version": 3
   },
   "pygments_lexer": "ipython3",
   "nbconvert_exporter": "python",
   "file_extension": ".py"
  },
  "kernelspec": {
   "name": "python3",
   "display_name": "Python 3.9.5 64-bit"
  },
  "interpreter": {
   "hash": "63fd5069d213b44bf678585dea6b12cceca9941eaf7f819626cde1f2670de90d"
  }
 },
 "nbformat": 4,
 "nbformat_minor": 2
}