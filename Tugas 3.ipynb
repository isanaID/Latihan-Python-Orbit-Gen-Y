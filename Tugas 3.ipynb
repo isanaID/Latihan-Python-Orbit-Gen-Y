{
 "cells": [
  {
   "cell_type": "code",
   "execution_count": 1,
   "metadata": {},
   "outputs": [],
   "source": [
    "#Data\n",
    "uang_jalan = 1500000\n",
    "jumlah_hari = 31\n",
    "list_plat_nomor = [8993, 2198, 2501, 2735, 3772, 4837, 9152]\n",
    "\n",
    "kendaraan_genap = 0\n",
    "kendaraan_ganjil = 0\n",
    "for plat_nomor in list_plat_nomor:\n",
    "    if plat_nomor % 2 ==0:\n",
    "        kendaraan_genap +=1\n",
    "    else:\n",
    "        kendaraan_ganjil += 1\n",
    "        \n",
    "i = 1\n",
    "total_pengeluaran = 0\n",
    "while i <= jumlah_hari:\n",
    "    if i % 2 == 0:\n",
    "        total_pengeluaran += (kendaraan_genap * uang_jalan)\n",
    "    else:\n",
    "        total_pengeluaran += (kendaraan_ganjil * uang_jalan)\n",
    "    i += 1\n",
    "    \n",
    "print(total_pengeluaran)"
   ]
  },
  {
   "cell_type": "code",
   "execution_count": 2,
   "metadata": {},
   "outputs": [],
   "source": [
    "list_tagihan = [50000, 75000, -150000, 125000, 300000, -50000, 200000]\n",
    "total_tagihan = 0\n",
    "for tagihan in list_tagihan:\n",
    "    if tagihan < 0:\n",
    "        print(\"terdapat angka minus dalam tagihan, perhitungan dihentikan!\")\n",
    "        break\n",
    "    total_tagihan + tagihan\n",
    "print(total_tagihan)"
   ]
  },
  {
   "cell_type": "code",
   "execution_count": null,
   "metadata": {},
   "outputs": [],
   "source": [
    "tagihan = [50000, 75000, -150000, 125000, 300000, -50000, 200000]\n",
    "i = 0\n",
    "jumlah_tagihan = len(tagihan)\n",
    "total_tagihan = 0\n",
    "while i < jumlah_tagihan:\n",
    "    if tagihan[i] < 0:\n",
    "        i += 1\n",
    "        continue\n",
    "    total_tagihan += tagihan[i]\n",
    "    i += 1\n",
    "print(total_tagihan)"
   ]
  },
  {
   "cell_type": "code",
   "execution_count": null,
   "metadata": {},
   "outputs": [],
   "source": [
    "tagihan = [50000, 75000, -150000, 125000, 300000, -50000, 200000]\n",
    "i = 0\n",
    "jumlah_tagihan = len(tagihan)\n",
    "total_tagihan = 0\n",
    "while i < jumlah_tagihan:\n",
    "    if tagihan[i] < 0:\n",
    "        total_tagihan = -1\n",
    "        print(\"terdapat angka minus dalam tagihan, perhitungan dihentikan!\")\n",
    "        break\n",
    "    total_tagihan = tagihan [i]\n",
    "    i = 1\n",
    "print(total_tagihan)"
   ]
  },
  {
   "cell_type": "code",
   "execution_count": 1,
   "metadata": {},
   "outputs": [
    {
     "name": "stdout",
     "output_type": "stream",
     "text": [
      "Harga bayar =  115500.0\n"
     ]
    }
   ],
   "source": [
    "total_harga     = 150000\n",
    "potongan_harga  = 0.3\n",
    "pajak           = 0.1\n",
    "\n",
    "harga_bayar     = (1 - potongan_harga) * total_harga\n",
    "\n",
    "harga_bayar += harga_bayar * pajak\n",
    "\n",
    "print ('Harga bayar = ', harga_bayar)"
   ]
  },
  {
   "cell_type": "code",
   "execution_count": 3,
   "metadata": {},
   "outputs": [
    {
     "name": "stdout",
     "output_type": "stream",
     "text": [
      "365200.00000000006\n"
     ]
    }
   ],
   "source": [
    "sepatu = {\n",
    "    'nama'      : 'Sepatu Niko',\n",
    "    'harga'     : 150000,\n",
    "    'diskon'    : 30000\n",
    "}\n",
    "\n",
    "baju = {\n",
    "    'nama'      : 'Baju Uniqlo',\n",
    "    'harga'     : 80000,\n",
    "    'diskon'    : 8000\n",
    "}\n",
    "\n",
    "celana = {\n",
    "    'nama'      : 'Celana Lepis',\n",
    "    'harga'     : 200000,\n",
    "    'diskon'    : 60000\n",
    "}\n",
    "\n",
    "harga_sepatu    = sepatu['harga'] - sepatu['diskon']\n",
    "harga_baju      = baju['harga'] - baju['diskon']\n",
    "harga_celana    = celana['harga'] - celana['diskon']\n",
    "\n",
    "total           = (harga_sepatu + harga_baju + harga_celana) * 1.1\n",
    "print (total)"
   ]
  },
  {
   "cell_type": "code",
   "execution_count": 6,
   "metadata": {},
   "outputs": [
    {
     "name": "stdout",
     "output_type": "stream",
     "text": [
      "Tagihan Kepada\n",
      "Mr.Tara\n",
      "Selamat pagi  Mr.Tara , anda harus membayar tagihan sebesar :  60000000\n"
     ]
    }
   ],
   "source": [
    "tagihan_ke = 'Mr.Tara'\n",
    "\n",
    "warehousing = {\n",
    "    'harga_harian'  : 1000000,\n",
    "    'total_hari'    : 15\n",
    "}\n",
    "\n",
    "cleansing = {\n",
    "    'harga_harian'  : 1500000,\n",
    "    'total_hari'    : 10\n",
    "}\n",
    "\n",
    "integration = {\n",
    "    'harga_harian'  : 2000000,\n",
    "    'total_hari'    : 15\n",
    "}\n",
    "\n",
    "transform = {\n",
    "    'harga_harian'  : 2500000,\n",
    "    'total_hari'    : 10\n",
    "}\n",
    "\n",
    "sub_warehousing = warehousing['harga_harian'] * warehousing['total_hari']\n",
    "sub_cleansing   = cleansing['harga_harian'] * cleansing['total_hari']\n",
    "sub_integration = integration['harga_harian'] * integration['total_hari']\n",
    "\n",
    "total = sub_cleansing + sub_integration + sub_warehousing\n",
    "\n",
    "print (\"Tagihan Kepada\")\n",
    "print (tagihan_ke)\n",
    "print ('Selamat pagi ', tagihan_ke, ', anda harus membayar tagihan sebesar : ', total)"
   ]
  },
  {
   "cell_type": "code",
   "execution_count": 8,
   "metadata": {},
   "outputs": [
    {
     "name": "stdout",
     "output_type": "stream",
     "text": [
      "750000\n",
      "750000\n"
     ]
    }
   ],
   "source": [
    "tagihan = [50000, 75000, 125000, 300000, 200000]\n",
    "\n",
    "#tanpa while \n",
    "\n",
    "total = tagihan[0] + tagihan[1] + tagihan[2] + tagihan[3] + tagihan[4]\n",
    "print (total)\n",
    "\n",
    "#while \n",
    "\n",
    "i = 0\n",
    "jumlah_tagihan = len(tagihan)\n",
    "total = 0\n",
    "\n",
    "while i < jumlah_tagihan:\n",
    "    total += tagihan[i]\n",
    "    i += 1\n",
    "\n",
    "print(total)"
   ]
  },
  {
   "cell_type": "code",
   "execution_count": 7,
   "metadata": {},
   "outputs": [
    {
     "name": "stdout",
     "output_type": "stream",
     "text": [
      "terdapat anka minus dalam tagihan\n",
      "125000\n"
     ]
    }
   ],
   "source": [
    "list_tagihan = [50000, 75000, -150000, 125000, 300000, -50000, 200000]\n",
    "\n",
    "total_tagihan = 0 \n",
    "\n",
    "for tagihan in list_tagihan:\n",
    "    if tagihan < 0:\n",
    "        print('terdapat anka minus dalam tagihan')\n",
    "        break\n",
    "    total_tagihan += tagihan\n",
    "\n",
    "print(total_tagihan)"
   ]
  },
  {
   "cell_type": "code",
   "execution_count": null,
   "metadata": {},
   "outputs": [],
   "source": []
  }
 ],
 "metadata": {
  "kernelspec": {
   "display_name": "Python 3",
   "language": "python",
   "name": "python3"
  },
  "language_info": {
   "codemirror_mode": {
    "name": "ipython",
    "version": 3
   },
   "file_extension": ".py",
   "mimetype": "text/x-python",
   "name": "python",
   "nbconvert_exporter": "python",
   "pygments_lexer": "ipython3",
   "version": "3.8.3"
  }
 },
 "nbformat": 4,
 "nbformat_minor": 4
}
