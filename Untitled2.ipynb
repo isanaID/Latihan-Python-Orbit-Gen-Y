{
 "cells": [
  {
   "cell_type": "code",
   "execution_count": 39,
   "metadata": {},
   "outputs": [],
   "source": [
    "#Import library numpy\n",
    "import numpy as np"
   ]
  },
  {
   "cell_type": "code",
   "execution_count": 40,
   "metadata": {},
   "outputs": [],
   "source": [
    "#melakukan deklarasi matrix dengan numpy array\n",
    "a = np.array([[5, 3, 5], [7, 21, 5], [1, 7, 8]])\n",
    "\n",
    "b = np.array([[3, 10, 5], \n",
    "              [1, 6, 7], \n",
    "              [4, 9, 3]])"
   ]
  },
  {
   "cell_type": "code",
   "execution_count": 50,
   "metadata": {},
   "outputs": [
    {
     "name": "stdout",
     "output_type": "stream",
     "text": [
      "[[ 5  3  5]\n",
      " [ 7 21  5]\n",
      " [ 1  7  8]]\n",
      "[[ 3 10  5]\n",
      " [ 1  6  7]\n",
      " [ 4  9  3]]\n"
     ]
    }
   ],
   "source": [
    "#melakukan print matrix\n",
    "print(a)\n",
    "print(b)"
   ]
  },
  {
   "cell_type": "code",
   "execution_count": 49,
   "metadata": {},
   "outputs": [
    {
     "name": "stdout",
     "output_type": "stream",
     "text": [
      "[[ 8 13 10]\n",
      " [ 8 27 12]\n",
      " [ 5 16 11]]\n"
     ]
    }
   ],
   "source": [
    "c = a+b\n",
    "print(c)"
   ]
  },
  {
   "cell_type": "code",
   "execution_count": 51,
   "metadata": {},
   "outputs": [
    {
     "name": "stdout",
     "output_type": "stream",
     "text": [
      "[[ 15  30  25]\n",
      " [  7 126  35]\n",
      " [  4  63  24]]\n"
     ]
    }
   ],
   "source": [
    "#melakukan perkalian matrix antar entry\n",
    "print(a*b)"
   ]
  },
  {
   "cell_type": "code",
   "execution_count": 55,
   "metadata": {},
   "outputs": [
    {
     "name": "stdout",
     "output_type": "stream",
     "text": [
      "[[ 38 113  61]\n",
      " [ 62 241 197]\n",
      " [ 42 124  78]]\n"
     ]
    }
   ],
   "source": [
    "#melakukan perkalian matrix\n",
    "e = np.matmul(a, b)\n",
    "print(e)"
   ]
  },
  {
   "cell_type": "code",
   "execution_count": 57,
   "metadata": {},
   "outputs": [
    {
     "name": "stdout",
     "output_type": "stream",
     "text": [
      "Masukkan jumlah baris: 3\n",
      "Masukkan jumlah kolom: 3\n",
      "[[2, 2, 2], [2, 2, 2], [2, 2, 2]]\n"
     ]
    }
   ],
   "source": [
    "m = int(input(\"Masukkan jumlah baris: \"))\n",
    "n = int(input(\"Masukkan jumlah kolom: \"))\n",
    "x = [0]*m\n",
    "for i in range(m):\n",
    "    x[i] = [1]*n\n",
    "print(x)"
   ]
  },
  {
   "cell_type": "code",
   "execution_count": 59,
   "metadata": {},
   "outputs": [
    {
     "name": "stdout",
     "output_type": "stream",
     "text": [
      "Masukan jumlah baris:3\n",
      "Masukan jumlah kolom:2\n",
      "Masukan isi dengan spasi sebagai pemisahnya: \n",
      "54 3 2 75 21 45\n",
      "[[54  3]\n",
      " [ 2 75]\n",
      " [21 45]]\n"
     ]
    }
   ],
   "source": [
    "R = int(input(\"Masukan jumlah baris:\"))\n",
    "C = int(input(\"Masukan jumlah kolom:\"))\n",
    "\n",
    "print(\"Masukan isi dengan spasi sebagai pemisahnya: \")\n",
    "  \n",
    "entries = list(map(int, input().split()))\n",
    "  \n",
    "matrix = np.array(entries).reshape(R, C)\n",
    "\n",
    "print(matrix)"
   ]
  },
  {
   "cell_type": "code",
   "execution_count": 67,
   "metadata": {},
   "outputs": [
    {
     "name": "stdout",
     "output_type": "stream",
     "text": [
      "651.9999999999995\n"
     ]
    }
   ],
   "source": [
    "#mencari determinan matrix\n",
    "\n",
    "deta = np.linalg.det(a)\n",
    "print(deta)"
   ]
  },
  {
   "cell_type": "code",
   "execution_count": 69,
   "metadata": {},
   "outputs": [
    {
     "name": "stdout",
     "output_type": "stream",
     "text": [
      "[[-1.125  0.375  1.   ]\n",
      " [ 0.625 -0.275 -0.4  ]\n",
      " [-0.375  0.325  0.2  ]]\n"
     ]
    }
   ],
   "source": [
    "#Mencari invers matrix\n",
    "print(np.linalg.inv(b))\n",
    "\n",
    "invb = np.linalg.inv(b)\n",
    "print(inv)"
   ]
  },
  {
   "cell_type": "code",
   "execution_count": null,
   "metadata": {},
   "outputs": [],
   "source": []
  }
 ],
 "metadata": {
  "kernelspec": {
   "display_name": "Python 3",
   "language": "python",
   "name": "python3"
  },
  "language_info": {
   "codemirror_mode": {
    "name": "ipython",
    "version": 3
   },
   "file_extension": ".py",
   "mimetype": "text/x-python",
   "name": "python",
   "nbconvert_exporter": "python",
   "pygments_lexer": "ipython3",
   "version": "3.8.3"
  }
 },
 "nbformat": 4,
 "nbformat_minor": 4
}
