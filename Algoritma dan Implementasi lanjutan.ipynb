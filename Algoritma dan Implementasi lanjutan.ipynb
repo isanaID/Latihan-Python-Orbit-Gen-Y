{
 "cells": [
  {
   "cell_type": "code",
   "execution_count": 1,
   "metadata": {},
   "outputs": [
    {
     "name": "stdout",
     "output_type": "stream",
     "text": [
      "MENGHITUNG LUAS & KELILING PERSEGI\n",
      "\n",
      "Masukan Panjang Sisi dalam cm: 6\n",
      "\n",
      "Luas Persegi \t\t: 36.0 cm^2\n",
      "Keliling Persegi\t: 24.0 cm\n"
     ]
    }
   ],
   "source": [
    "print(\"MENGHITUNG LUAS & KELILING PERSEGI\")\n",
    "\n",
    "s = float(input(\"\\nMasukan Panjang Sisi dalam cm: \"))\n",
    "\n",
    "luas = s**2\n",
    "keliling = 4 * s\n",
    "\n",
    "print(\"\\nLuas Persegi \\t\\t:\",luas, \"cm^2\")\n",
    "print(\"Keliling Persegi\\t:\",keliling, \"cm\")"
   ]
  },
  {
   "cell_type": "code",
   "execution_count": 1,
   "metadata": {},
   "outputs": [
    {
     "name": "stdout",
     "output_type": "stream",
     "text": [
      "MENGHITUNG LUAS & KELILING PERSEGI\n",
      "\n",
      "Masukan Panjang Sisi dalam cm: 4\n",
      "\n",
      "Luas Persegi \t\t: 16.0 cm^2\n",
      "Keliling Persegi\t: 16.0 cm\n"
     ]
    }
   ],
   "source": [
    "print(\"MENGHITUNG LUAS & KELILING PERSEGI\")\n",
    "\n",
    "s = float(input(\"\\nMasukan Panjang Sisi dalam cm: \"))\n",
    "\n",
    "luas = s**2\n",
    "keliling = 4 * s\n",
    "\n",
    "print(\"\\nLuas Persegi \\t\\t:\",luas, \"cm^2\")\n",
    "print(\"Keliling Persegi\\t:\",keliling, \"cm\")"
   ]
  },
  {
   "cell_type": "code",
   "execution_count": 2,
   "metadata": {},
   "outputs": [
    {
     "name": "stdout",
     "output_type": "stream",
     "text": [
      "MENGHITUNG VOLUME & LUAS PERMUKAAN BOLA\n",
      "\n",
      "Masukan jari-jari dalam cm: 5\n",
      "\n",
      "Volume Bola adalah \t\t: 523.3333333333334 cm^3\n",
      "Luas Permukaan Bola adalah\t: 314.0 cm^2\n"
     ]
    }
   ],
   "source": [
    "print(\"MENGHITUNG VOLUME & LUAS PERMUKAAN BOLA\")\n",
    "\n",
    "jari_jari = float(input(\"\\nMasukan jari-jari dalam cm: \"))\n",
    "\n",
    "phi = 3.14\n",
    "volume = 4/3 * phi * jari_jari**3\n",
    "luas_permukaan = 4 * phi * jari_jari**2\n",
    "\n",
    "print(\"\\nVolume Bola adalah \\t\\t:\",volume, \"cm^3\")\n",
    "print(\"Luas Permukaan Bola adalah\\t:\",luas_permukaan, \"cm^2\")"
   ]
  },
  {
   "cell_type": "code",
   "execution_count": 1,
   "metadata": {},
   "outputs": [
    {
     "name": "stdout",
     "output_type": "stream",
     "text": [
      "SELAMAT DATANG DI PROGRAM\n",
      "MENGHITUNG VOLUME & LUAS PERMUKAAN BOLA\n",
      "\n",
      "Masukan jari-jari dalam cm: 4\n",
      "\n",
      "Pilih 1 untuk menghitung volume\n",
      "Pilih 2 untuk menghitung luas permukaan\n",
      "\n",
      "Input pilihan: 1\n",
      "\n",
      "Volume Bola adalah:  267.94666666666666 cm^3\n",
      "\n",
      "Terimakasih telah menggunakan program ini.\n"
     ]
    }
   ],
   "source": [
    "print(\"SELAMAT DATANG DI PROGRAM\\nMENGHITUNG VOLUME & LUAS PERMUKAAN BOLA\")\n",
    "\n",
    "jari_jari = float(input(\"\\nMasukan jari-jari dalam cm: \"))\n",
    "print(\"\\nPilih 1 untuk menghitung volume\\nPilih 2 untuk menghitung luas permukaan\")\n",
    "pilihan = input(\"\\nInput pilihan: \")\n",
    "phi = 3.14\n",
    "\n",
    "if pilihan == \"1\":\n",
    "  volume = 4/3 * phi * jari_jari**3\n",
    "  print(\"\\nVolume Bola adalah: \",volume, \"cm^3\")\n",
    "elif pilihan == \"2\":\n",
    "  luas_permukaan = 4 * phi * jari_jari**2\n",
    "  print(\"Luas Permukaan Bola adalah: \",luas_permukaan, \"cm^2\")\n",
    "else:\n",
    "  print(\"\\nMaaf, pilihan tidak tersedia\")\n",
    "\n",
    "print(\"\\nTerimakasih telah menggunakan program ini.\")"
   ]
  },
  {
   "cell_type": "code",
   "execution_count": 4,
   "metadata": {},
   "outputs": [
    {
     "name": "stdout",
     "output_type": "stream",
     "text": [
      "SELAMAT DATANG DI PROGRAM\n",
      "MENGHITUNG VOLUME & LUAS PERMUKAAN BOLA\n",
      "\n",
      "Masukan jari-jari dalam cm: 3\n",
      "\n",
      "Pilih 1 untuk menghitung volume\n",
      "Pilih 2 untuk menghitung luas permukaan\n",
      "\n",
      "Input pilihan: 1\n",
      "\n",
      "Volume Bola adalah:  113.03999999999999 cm^3\n",
      "\n",
      "Terimakasih telah menggunakan program ini.\n"
     ]
    }
   ],
   "source": [
    "print(\"SELAMAT DATANG DI PROGRAM\\nMENGHITUNG VOLUME & LUAS PERMUKAAN BOLA\")\n",
    "\n",
    "def hitung(jari_jari, pilihan):\n",
    "  phi = 3.14\n",
    "  if pilihan == \"1\":\n",
    "    volume = 4/3 * phi * jari_jari**3\n",
    "    print(\"\\nVolume Bola adalah: \",volume, \"cm^3\")\n",
    "  elif pilihan == \"2\":\n",
    "    luas_permukaan = 4 * phi * jari_jari**2\n",
    "    print(\"Luas Permukaan Bola adalah: \",luas_permukaan, \"cm^2\")\n",
    "  else:\n",
    "    print(\"\\nMaaf, pilihan tidak tersedia\")\n",
    "\n",
    "jari_jari = float(input(\"\\nMasukan jari-jari dalam cm: \"))\n",
    "print(\"\\nPilih 1 untuk menghitung volume\\nPilih 2 untuk menghitung luas permukaan\")\n",
    "pilihan = input(\"\\nInput pilihan: \")\n",
    "\n",
    "hitung(jari_jari, pilihan)\n",
    "\n",
    "print(\"\\nTerimakasih telah menggunakan program ini.\")"
   ]
  },
  {
   "cell_type": "code",
   "execution_count": 5,
   "metadata": {},
   "outputs": [
    {
     "name": "stdout",
     "output_type": "stream",
     "text": [
      "SELAMAT DATANG DI PROGRAM\n",
      "MENGHITUNG VOLUME & LUAS PERMUKAAN BOLA\n",
      "\n",
      "Pilih 1 untuk melanjutkan\n",
      "Pilih 2 untuk keluar\n",
      "\n",
      "Input pilihan: 1\n",
      "\n",
      "Masukan jari-jari dalam cm: 3\n",
      "\n",
      "Pilih 1 untuk menghitung volume\n",
      "Pilih 2 untuk menghitung luas permukaan\n",
      "\n",
      "Input pilihan: 1\n",
      "\n",
      "Volume Bola adalah:  113.03999999999999 cm^3\n",
      "\n",
      "Pilih 1 untuk melanjutkan\n",
      "Pilih 2 untuk keluar\n",
      "\n",
      "Input pilihan: 3\n",
      "Pilihan tidak ada\n",
      "\n",
      "Pilih 1 untuk melanjutkan\n",
      "Pilih 2 untuk keluar\n",
      "\n",
      "Input pilihan: e\n",
      "Pilihan tidak ada\n",
      "\n",
      "Pilih 1 untuk melanjutkan\n",
      "Pilih 2 untuk keluar\n"
     ]
    },
    {
     "ename": "KeyboardInterrupt",
     "evalue": "Interrupted by user",
     "output_type": "error",
     "traceback": [
      "\u001b[1;31m---------------------------------------------------------------------------\u001b[0m",
      "\u001b[1;31mKeyboardInterrupt\u001b[0m                         Traceback (most recent call last)",
      "\u001b[1;32m<ipython-input-5-9f0b64b05b6c>\u001b[0m in \u001b[0;36m<module>\u001b[1;34m\u001b[0m\n\u001b[0;32m     20\u001b[0m   \u001b[1;32mwhile\u001b[0m \u001b[1;32mTrue\u001b[0m\u001b[1;33m:\u001b[0m\u001b[1;33m\u001b[0m\u001b[1;33m\u001b[0m\u001b[0m\n\u001b[0;32m     21\u001b[0m     \u001b[0mprint\u001b[0m\u001b[1;33m(\u001b[0m\u001b[1;34m\"\\nPilih 1 untuk melanjutkan\\nPilih 2 untuk keluar\"\u001b[0m\u001b[1;33m)\u001b[0m\u001b[1;33m\u001b[0m\u001b[1;33m\u001b[0m\u001b[0m\n\u001b[1;32m---> 22\u001b[1;33m     \u001b[0mpilihan_IO\u001b[0m \u001b[1;33m=\u001b[0m \u001b[0minput\u001b[0m\u001b[1;33m(\u001b[0m\u001b[1;34m\"\\nInput pilihan: \"\u001b[0m\u001b[1;33m)\u001b[0m\u001b[1;33m\u001b[0m\u001b[1;33m\u001b[0m\u001b[0m\n\u001b[0m\u001b[0;32m     23\u001b[0m \u001b[1;33m\u001b[0m\u001b[0m\n\u001b[0;32m     24\u001b[0m     \u001b[1;32mif\u001b[0m \u001b[0mpilihan_IO\u001b[0m \u001b[1;33m==\u001b[0m \u001b[1;34m\"1\"\u001b[0m\u001b[1;33m:\u001b[0m\u001b[1;33m\u001b[0m\u001b[1;33m\u001b[0m\u001b[0m\n",
      "\u001b[1;32mD:\\Program\\Anaconda\\lib\\site-packages\\ipykernel\\kernelbase.py\u001b[0m in \u001b[0;36mraw_input\u001b[1;34m(self, prompt)\u001b[0m\n\u001b[0;32m    858\u001b[0m                 \u001b[1;34m\"raw_input was called, but this frontend does not support input requests.\"\u001b[0m\u001b[1;33m\u001b[0m\u001b[1;33m\u001b[0m\u001b[0m\n\u001b[0;32m    859\u001b[0m             )\n\u001b[1;32m--> 860\u001b[1;33m         return self._input_request(str(prompt),\n\u001b[0m\u001b[0;32m    861\u001b[0m             \u001b[0mself\u001b[0m\u001b[1;33m.\u001b[0m\u001b[0m_parent_ident\u001b[0m\u001b[1;33m,\u001b[0m\u001b[1;33m\u001b[0m\u001b[1;33m\u001b[0m\u001b[0m\n\u001b[0;32m    862\u001b[0m             \u001b[0mself\u001b[0m\u001b[1;33m.\u001b[0m\u001b[0m_parent_header\u001b[0m\u001b[1;33m,\u001b[0m\u001b[1;33m\u001b[0m\u001b[1;33m\u001b[0m\u001b[0m\n",
      "\u001b[1;32mD:\\Program\\Anaconda\\lib\\site-packages\\ipykernel\\kernelbase.py\u001b[0m in \u001b[0;36m_input_request\u001b[1;34m(self, prompt, ident, parent, password)\u001b[0m\n\u001b[0;32m    902\u001b[0m             \u001b[1;32mexcept\u001b[0m \u001b[0mKeyboardInterrupt\u001b[0m\u001b[1;33m:\u001b[0m\u001b[1;33m\u001b[0m\u001b[1;33m\u001b[0m\u001b[0m\n\u001b[0;32m    903\u001b[0m                 \u001b[1;31m# re-raise KeyboardInterrupt, to truncate traceback\u001b[0m\u001b[1;33m\u001b[0m\u001b[1;33m\u001b[0m\u001b[1;33m\u001b[0m\u001b[0m\n\u001b[1;32m--> 904\u001b[1;33m                 \u001b[1;32mraise\u001b[0m \u001b[0mKeyboardInterrupt\u001b[0m\u001b[1;33m(\u001b[0m\u001b[1;34m\"Interrupted by user\"\u001b[0m\u001b[1;33m)\u001b[0m \u001b[1;32mfrom\u001b[0m \u001b[1;32mNone\u001b[0m\u001b[1;33m\u001b[0m\u001b[1;33m\u001b[0m\u001b[0m\n\u001b[0m\u001b[0;32m    905\u001b[0m             \u001b[1;32mexcept\u001b[0m \u001b[0mException\u001b[0m \u001b[1;32mas\u001b[0m \u001b[0me\u001b[0m\u001b[1;33m:\u001b[0m\u001b[1;33m\u001b[0m\u001b[1;33m\u001b[0m\u001b[0m\n\u001b[0;32m    906\u001b[0m                 \u001b[0mself\u001b[0m\u001b[1;33m.\u001b[0m\u001b[0mlog\u001b[0m\u001b[1;33m.\u001b[0m\u001b[0mwarning\u001b[0m\u001b[1;33m(\u001b[0m\u001b[1;34m\"Invalid Message:\"\u001b[0m\u001b[1;33m,\u001b[0m \u001b[0mexc_info\u001b[0m\u001b[1;33m=\u001b[0m\u001b[1;32mTrue\u001b[0m\u001b[1;33m)\u001b[0m\u001b[1;33m\u001b[0m\u001b[1;33m\u001b[0m\u001b[0m\n",
      "\u001b[1;31mKeyboardInterrupt\u001b[0m: Interrupted by user"
     ]
    }
   ],
   "source": [
    "print(\"SELAMAT DATANG DI PROGRAM\\nMENGHITUNG VOLUME & LUAS PERMUKAAN BOLA\")\n",
    "\n",
    "def hitung():\n",
    "  jari_jari = float(input(\"\\nMasukan jari-jari dalam cm: \"))\n",
    "  print(\"\\nPilih 1 untuk menghitung volume\\nPilih 2 untuk menghitung luas permukaan\")\n",
    "  pilihan_kalkulasi = input(\"\\nInput pilihan: \")\n",
    "  phi = 3.14\n",
    "\n",
    "  if pilihan_kalkulasi == \"1\":\n",
    "    volume = 4/3 * phi * jari_jari**3\n",
    "    print(\"\\nVolume Bola adalah: \",volume, \"cm^3\")\n",
    "  elif pilihan_kalkulasi == \"2\":\n",
    "    luas_permukaan = 4 * phi * jari_jari**2\n",
    "    print(\"Luas Permukaan Bola adalah: \",luas_permukaan, \"cm^2\")\n",
    "  else:\n",
    "    print(\"\\nMaaf, pilihan tidak tersedia\")\n",
    "\n",
    "\n",
    "if __name__ == '__main__':\n",
    "  while True:\n",
    "    print(\"\\nPilih 1 untuk melanjutkan\\nPilih 2 untuk keluar\")\n",
    "    pilihan_IO = input(\"\\nInput pilihan: \")\n",
    "\n",
    "    if pilihan_IO == \"1\":\n",
    "      hitung()\n",
    "    elif pilihan_IO == \"2\":\n",
    "      break\n",
    "    else:\n",
    "      print(\"Pilihan tidak ada\")\n",
    "  \n",
    "\n",
    "print(\"\\nTerimakasih telah menggunakan program ini.\")"
   ]
  },
  {
   "cell_type": "code",
   "execution_count": 6,
   "metadata": {},
   "outputs": [
    {
     "name": "stdout",
     "output_type": "stream",
     "text": [
      "SELAMAT DATANG DI PROGRAM\n",
      "MENGHITUNG VOLUME & LUAS PERMUKAAN BOLA\n",
      "\n",
      "Pilih 1 untuk melanjutkan\n",
      "Pilih 2 untuk keluar\n",
      "\n",
      "Input pilihan: 1\n",
      "\n",
      "Masukan jari-jari dalam cm: 3\n",
      "\n",
      "Pilih 1 untuk menghitung volume\n",
      "Pilih 2 untuk menghitung luas permukaan\n",
      "\n",
      "Input pilihan: 2\n",
      "Luas Permukaan Bola adalah:  113.04 cm^2\n",
      "\n",
      "Pilih 1 untuk melanjutkan\n",
      "Pilih 2 untuk keluar\n",
      "\n",
      "Input pilihan: 2\n",
      "\n",
      "Terimakasih telah menggunakan program ini.\n"
     ]
    }
   ],
   "source": [
    "print(\"SELAMAT DATANG DI PROGRAM\\nMENGHITUNG VOLUME & LUAS PERMUKAAN BOLA\")\n",
    "\n",
    "def hitung(jari_jari, pilihan_kalkulasi):\n",
    "  phi = 3.14\n",
    "\n",
    "  if pilihan_kalkulasi == \"1\":\n",
    "    volume = 4/3 * phi * jari_jari**3\n",
    "    print(\"\\nVolume Bola adalah: \",volume, \"cm^3\")\n",
    "  elif pilihan_kalkulasi == \"2\":\n",
    "    luas_permukaan = 4 * phi * jari_jari**2\n",
    "    print(\"Luas Permukaan Bola adalah: \",luas_permukaan, \"cm^2\")\n",
    "  else:\n",
    "    print(\"\\nMaaf, pilihan tidak tersedia\")\n",
    "\n",
    "\n",
    "if __name__ == '__main__':\n",
    "  while True:\n",
    "    print(\"\\nPilih 1 untuk melanjutkan\\nPilih 2 untuk keluar\")\n",
    "    pilihan_IO = input(\"\\nInput pilihan: \")\n",
    "\n",
    "    if pilihan_IO == \"1\":\n",
    "      jari_jari = float(input(\"\\nMasukan jari-jari dalam cm: \"))\n",
    "      print(\"\\nPilih 1 untuk menghitung volume\\nPilih 2 untuk menghitung luas permukaan\")\n",
    "      pilihan_kalkulasi = input(\"\\nInput pilihan: \")\n",
    "\n",
    "      hitung(jari_jari, pilihan_kalkulasi)\n",
    "\n",
    "    elif pilihan_IO == \"2\":\n",
    "      break\n",
    "    else:\n",
    "      print(\"Pilihan tidak ada\")\n",
    "  \n",
    "\n",
    "print(\"\\nTerimakasih telah menggunakan program ini.\")"
   ]
  },
  {
   "cell_type": "code",
   "execution_count": null,
   "metadata": {},
   "outputs": [],
   "source": []
  }
 ],
 "metadata": {
  "kernelspec": {
   "display_name": "Python 3",
   "language": "python",
   "name": "python3"
  },
  "language_info": {
   "codemirror_mode": {
    "name": "ipython",
    "version": 3
   },
   "file_extension": ".py",
   "mimetype": "text/x-python",
   "name": "python",
   "nbconvert_exporter": "python",
   "pygments_lexer": "ipython3",
   "version": "3.8.3"
  }
 },
 "nbformat": 4,
 "nbformat_minor": 4
}
