{
 "cells": [
  {
   "cell_type": "code",
   "execution_count": 3,
   "source": [
    "import numpy as np\r\n",
    "input_set = np.array([  [0,1,0],\r\n",
    "                        [0,0,1],\r\n",
    "                        [1,1,0],\r\n",
    "                        [1,1,0],\r\n",
    "                        [1,1,1],\r\n",
    "                        [0,1,1],\r\n",
    "                        [0,1,0],\r\n",
    "])\r\n",
    "\r\n",
    "labels = np.array([[1,\r\n",
    "                    0,\r\n",
    "                    0,\r\n",
    "                    1,\r\n",
    "                    1,\r\n",
    "                    0,\r\n",
    "                    1,]])\r\n",
    "\r\n",
    "labels = labels.reshape(7,1)"
   ],
   "outputs": [],
   "metadata": {}
  },
  {
   "cell_type": "code",
   "execution_count": 4,
   "source": [
    "np.random.seed(42)\r\n",
    "weights = np.random.rand(3,1)\r\n",
    "bias = np.random.rand(1)\r\n",
    "lr = 0.05"
   ],
   "outputs": [],
   "metadata": {}
  },
  {
   "cell_type": "code",
   "execution_count": 6,
   "source": [
    "def sigmoid(x):\r\n",
    "    return 1/(1+np.exp(-x))"
   ],
   "outputs": [],
   "metadata": {}
  },
  {
   "cell_type": "code",
   "execution_count": 7,
   "source": [
    "def sigmoid_derivative (x):\r\n",
    "    return sigmoid(x)*(1-sigmoid(x))"
   ],
   "outputs": [],
   "metadata": {}
  },
  {
   "cell_type": "code",
   "execution_count": 8,
   "source": [
    "inputs = input_set\r\n",
    "print(inputs)"
   ],
   "outputs": [
    {
     "output_type": "stream",
     "name": "stdout",
     "text": [
      "[[0 1 0]\n",
      " [0 0 1]\n",
      " [1 1 0]\n",
      " [1 1 0]\n",
      " [1 1 1]\n",
      " [0 1 1]\n",
      " [0 1 0]]\n"
     ]
    }
   ],
   "metadata": {}
  },
  {
   "cell_type": "code",
   "execution_count": 9,
   "source": [
    "XW = np.dot(inputs, weights)+ bias\r\n",
    "print(XW)"
   ],
   "outputs": [
    {
     "output_type": "stream",
     "name": "stdout",
     "text": [
      "[[1.54937279]\n",
      " [1.33065243]\n",
      " [1.92391291]\n",
      " [1.92391291]\n",
      " [2.65590685]\n",
      " [2.28136673]\n",
      " [1.54937279]]\n"
     ]
    }
   ],
   "metadata": {}
  },
  {
   "cell_type": "code",
   "execution_count": 10,
   "source": [
    "z = sigmoid(XW)\r\n",
    "print(z)"
   ],
   "outputs": [
    {
     "output_type": "stream",
     "name": "stdout",
     "text": [
      "[[0.82482312]\n",
      " [0.79094853]\n",
      " [0.87257414]\n",
      " [0.87257414]\n",
      " [0.93437412]\n",
      " [0.90732204]\n",
      " [0.82482312]]\n"
     ]
    }
   ],
   "metadata": {}
  },
  {
   "cell_type": "code",
   "execution_count": 11,
   "source": [
    "error = z - labels\r\n",
    "print(error)"
   ],
   "outputs": [
    {
     "output_type": "stream",
     "name": "stdout",
     "text": [
      "[[-0.17517688]\n",
      " [ 0.79094853]\n",
      " [ 0.87257414]\n",
      " [-0.12742586]\n",
      " [-0.06562588]\n",
      " [ 0.90732204]\n",
      " [-0.17517688]]\n"
     ]
    }
   ],
   "metadata": {}
  },
  {
   "cell_type": "code",
   "execution_count": 12,
   "source": [
    "print(error.sum())"
   ],
   "outputs": [
    {
     "output_type": "stream",
     "name": "stdout",
     "text": [
      "2.0274392225222626\n"
     ]
    }
   ],
   "metadata": {}
  },
  {
   "cell_type": "code",
   "execution_count": 13,
   "source": [
    "dcost = error\r\n",
    "dpred = sigmoid_derivative(z)\r\n",
    "z_del = dcost * dpred\r\n",
    "inputs = input_set.T\r\n",
    "weights = weights-lr*np.dot(inputs, z_del)"
   ],
   "outputs": [],
   "metadata": {}
  },
  {
   "cell_type": "code",
   "execution_count": 14,
   "source": [
    "print(weights)"
   ],
   "outputs": [
    {
     "output_type": "stream",
     "name": "stdout",
     "text": [
      "[[0.36746024]\n",
      " [0.93805208]\n",
      " [0.71487592]]\n"
     ]
    }
   ],
   "metadata": {}
  },
  {
   "cell_type": "code",
   "execution_count": 15,
   "source": [
    "for num in z_del:\r\n",
    "        bias = bias - lr*num\r\n",
    "\r\n",
    "# Nilai bias baru\r\n",
    "print(bias)"
   ],
   "outputs": [
    {
     "output_type": "stream",
     "name": "stdout",
     "text": [
      "[0.57750768]\n"
     ]
    }
   ],
   "metadata": {}
  },
  {
   "cell_type": "code",
   "execution_count": null,
   "source": [],
   "outputs": [],
   "metadata": {}
  }
 ],
 "metadata": {
  "orig_nbformat": 4,
  "language_info": {
   "name": "python",
   "version": "3.9.5",
   "mimetype": "text/x-python",
   "codemirror_mode": {
    "name": "ipython",
    "version": 3
   },
   "pygments_lexer": "ipython3",
   "nbconvert_exporter": "python",
   "file_extension": ".py"
  },
  "kernelspec": {
   "name": "python3",
   "display_name": "Python 3.9.5 64-bit"
  },
  "interpreter": {
   "hash": "63fd5069d213b44bf678585dea6b12cceca9941eaf7f819626cde1f2670de90d"
  }
 },
 "nbformat": 4,
 "nbformat_minor": 2
}