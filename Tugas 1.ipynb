{
 "cells": [
  {
   "cell_type": "code",
   "execution_count": 4,
   "metadata": {},
   "outputs": [
    {
     "name": "stdout",
     "output_type": "stream",
     "text": [
      "True\n"
     ]
    }
   ],
   "source": [
    "a = 4\n",
    "b = 4\n",
    "\n",
    "c = a == b\n",
    "print(c)"
   ]
  },
  {
   "cell_type": "code",
   "execution_count": 8,
   "metadata": {},
   "outputs": [
    {
     "name": "stdout",
     "output_type": "stream",
     "text": [
      "False\n"
     ]
    }
   ],
   "source": [
    "a = 4\n",
    "b = 6\n",
    "\n",
    "c = a > b\n",
    "print(c)"
   ]
  },
  {
   "cell_type": "code",
   "execution_count": 54,
   "metadata": {},
   "outputs": [
    {
     "name": "stdout",
     "output_type": "stream",
     "text": [
      "Nama                :  wibisana\n",
      "Umur                :  22 Tahun\n",
      "Tinggi              :  175 cm\n",
      "Berat Badan         :  56.15 kg\n",
      "BMI                 :  18.334693877551018\n",
      "Status BMI          :  Berat badan kurang\n",
      "Status Pernikahan   :  Belum Menikah\n"
     ]
    }
   ],
   "source": [
    "#string\n",
    "nama = \"wibisana\"\n",
    "#intiger\n",
    "umur = 22\n",
    "tinggi = 175\n",
    "#float\n",
    "berat_badan = 56.15\n",
    "#boolean\n",
    "status_pernikahan = False\n",
    "\n",
    "if status_pernikahan == True:\n",
    "    status = \"Sudah menikah\"\n",
    "else:\n",
    "    status = \"Belum Menikah\"\n",
    "    \n",
    "#tinggi = tinggi/100\n",
    "    \n",
    "bmi = berat_badan/(tinggi/100*tinggi/100)\n",
    "\n",
    "if bmi <= 18.5:\n",
    "    status_bmi = \"Berat badan kurang\"\n",
    "elif 18.5 <= bmi <= 22.9: \n",
    "    status_bmi = \"Berat badan normal\"\n",
    "elif 23 <= bmi <= 29.9:\n",
    "    status_bmi = \"Berat badan normal\"\n",
    "else:\n",
    "    status_bmi = \"obesitas\"\n",
    "    \n",
    "print(\"Nama                : \", nama)\n",
    "print(\"Umur                : \", umur, \"Tahun\")\n",
    "print(\"Tinggi              : \", tinggi, \"cm\")\n",
    "print(\"Berat Badan         : \", berat_badan, \"kg\")\n",
    "print(\"BMI                 : \", bmi)\n",
    "print(\"Status BMI          : \", status_bmi)\n",
    "print(\"Status Pernikahan   : \", status)"
   ]
  },
  {
   "cell_type": "code",
   "execution_count": 53,
   "metadata": {},
   "outputs": [
    {
     "name": "stdout",
     "output_type": "stream",
     "text": [
      "7\n",
      "1\n"
     ]
    }
   ],
   "source": [
    "a = 1\n",
    "b = 7\n",
    "\n",
    "a,b = b,a\n",
    "print(a)\n",
    "print(b)"
   ]
  },
  {
   "cell_type": "code",
   "execution_count": 55,
   "metadata": {},
   "outputs": [
    {
     "name": "stdout",
     "output_type": "stream",
     "text": [
      "array('I', [1, 4, 8, 12, 16])\n"
     ]
    }
   ],
   "source": [
    "import array as arr\n",
    "# Contoh Array\n",
    "# value dalam array harus memiliki tipe data yang sama\n",
    "# I untuk unsigned integer (integer positif), lihat gambar di atas\n",
    "apapun_array = arr.array(\"I\", [1,4,8,12,16])\n",
    "print(apapun_array)"
   ]
  },
  {
   "cell_type": "code",
   "execution_count": 56,
   "metadata": {},
   "outputs": [
    {
     "name": "stdout",
     "output_type": "stream",
     "text": [
      "array('I', [1, 3, 21, 9])\n"
     ]
    }
   ],
   "source": [
    "# Array akan error apabila didalamnya terdapat tipe data yang berbeda\n",
    "bilangan_kelipatan_tiga = arr.array(\"I\", [1,3,21,9])\n",
    "#(satu,dua,enam.tujuh)\"enam\"[]\n",
    "print(bilangan_kelipatan_tiga)"
   ]
  },
  {
   "cell_type": "code",
   "execution_count": 57,
   "metadata": {},
   "outputs": [
    {
     "name": "stdout",
     "output_type": "stream",
     "text": [
      "['satu', 2, 3, 4.5, True]\n"
     ]
    }
   ],
   "source": [
    "# Value / nilai dalam list boleh memiliki tipe data yang berbeda\n",
    "apapun_list = [\"satu\", 2, 3, 4.5, True]\n",
    "print(apapun_list)"
   ]
  },
  {
   "cell_type": "code",
   "execution_count": 71,
   "metadata": {},
   "outputs": [
    {
     "name": "stdout",
     "output_type": "stream",
     "text": [
      "(1, 2, 3, 4, 5)\n"
     ]
    }
   ],
   "source": [
    "apapun_tupple = (1,2,3,4,5)\n",
    "#apapun_tupple = [1,2,3,4,5]\n",
    "#apapun_tupple[0] = -100\n",
    "print(apapun_tupple)"
   ]
  },
  {
   "cell_type": "code",
   "execution_count": 73,
   "metadata": {},
   "outputs": [
    {
     "name": "stdout",
     "output_type": "stream",
     "text": [
      "21\n",
      "5\n",
      "4\n"
     ]
    }
   ],
   "source": [
    "# Dihitung dari nol\n",
    "#print('bilangan_kelipatan_empat'[2]) #array\n",
    "bilangan_kelipatan_empat = arr.array(\"I\", [1,3,21,9])\n",
    "print(bilangan_kelipatan_empat[2]) #array\n",
    "print(apapun_list[4])\n",
    "print(apapun_tupple[3])"
   ]
  },
  {
   "cell_type": "code",
   "execution_count": 74,
   "metadata": {},
   "outputs": [
    {
     "name": "stdout",
     "output_type": "stream",
     "text": [
      "wibisana\n",
      "22\n",
      "56.15\n",
      "False\n"
     ]
    }
   ],
   "source": [
    "artis = {\n",
    "    'nama': \"wibisana\",\n",
    "    'umur': 22,\n",
    "    'berat_badan': 56.15,\n",
    "    'status_pernikahan': False\n",
    "}\n",
    "print(artis['nama'])\n",
    "print(artis['umur'])\n",
    "print(artis['berat_badan'])\n",
    "print(artis['status_pernikahan'])"
   ]
  },
  {
   "cell_type": "code",
   "execution_count": 75,
   "metadata": {},
   "outputs": [
    {
     "data": {
      "text/plain": [
       "{0, 1, 2, 3, 4, 24, 32, 43}"
      ]
     },
     "execution_count": 75,
     "metadata": {},
     "output_type": "execute_result"
    }
   ],
   "source": [
    "nama = \"wibisana\"\n",
    "nama = set(nama)\n",
    "set([2,4,24,3,43,1,32,0])"
   ]
  },
  {
   "cell_type": "code",
   "execution_count": 76,
   "metadata": {},
   "outputs": [
    {
     "name": "stdout",
     "output_type": "stream",
     "text": [
      "5\n",
      "1\n",
      "6\n",
      "1.5\n",
      "1\n",
      "1\n",
      "9\n"
     ]
    }
   ],
   "source": [
    "x = 3\n",
    "y = 2\n",
    "\n",
    "hasil_penjumlahan = x + y\n",
    "hasil_pengurangan = x - y\n",
    "hasil_perkalian = x * y\n",
    "hasil_pembagian = x / y\n",
    "hasil_modulus = x % y\n",
    "hasil_floor_division = x // y\n",
    "hasil_x_pangkat_y = x ** y\n",
    "\n",
    "print(hasil_penjumlahan)\n",
    "print(hasil_pengurangan)\n",
    "print(hasil_perkalian)\n",
    "print(hasil_pembagian)\n",
    "print(hasil_modulus)\n",
    "print(hasil_floor_division)\n",
    "print(hasil_x_pangkat_y)"
   ]
  },
  {
   "cell_type": "code",
   "execution_count": 77,
   "metadata": {},
   "outputs": [
    {
     "name": "stdout",
     "output_type": "stream",
     "text": [
      "Selamat, kamu lulus\n"
     ]
    }
   ],
   "source": [
    "nilai = 98\n",
    "\n",
    "if nilai > 70:\n",
    "    print(\"Selamat, kamu lulus\")\n",
    "else: # nilai_a <= 70\n",
    "    print(\"Yah, kamu harus mengulang\")"
   ]
  },
  {
   "cell_type": "code",
   "execution_count": 78,
   "metadata": {},
   "outputs": [
    {
     "name": "stdout",
     "output_type": "stream",
     "text": [
      "Dapat nilai A\n"
     ]
    }
   ],
   "source": [
    "if nilai >= 90:\n",
    "    print(\"Dapat nilai A\")\n",
    "elif nilai >= 80:\n",
    "    print(\"Dapat nilai B\")\n",
    "elif nilai > 70:\n",
    "    print(\"Dapat nilai C\")\n",
    "else:\n",
    "    print(\"Dapat nilai D. Yah kamu harus mengulang\")"
   ]
  },
  {
   "cell_type": "code",
   "execution_count": null,
   "metadata": {},
   "outputs": [],
   "source": []
  }
 ],
 "metadata": {
  "kernelspec": {
   "display_name": "Python 3",
   "language": "python",
   "name": "python3"
  },
  "language_info": {
   "codemirror_mode": {
    "name": "ipython",
    "version": 3
   },
   "file_extension": ".py",
   "mimetype": "text/x-python",
   "name": "python",
   "nbconvert_exporter": "python",
   "pygments_lexer": "ipython3",
   "version": "3.8.3"
  }
 },
 "nbformat": 4,
 "nbformat_minor": 4
}
