{
 "cells": [
  {
   "cell_type": "code",
   "execution_count": 11,
   "metadata": {},
   "outputs": [
    {
     "name": "stdout",
     "output_type": "stream",
     "text": [
      "Program menghitung Luas segitiga\n",
      "masukan alas :6\n",
      "masukan tinggi :7\n",
      "Luas segitiga adalah 21.0\n"
     ]
    }
   ],
   "source": [
    "print(\"Program menghitung Luas segitiga\")\n",
    "alas = float(input(\"masukan alas :\"))\n",
    "tinggi = float(input(\"masukan tinggi :\"))\n",
    "luas = 1/2*alas*tinggi\n",
    "print(\"Luas segitiga adalah\", luas)"
   ]
  },
  {
   "cell_type": "code",
   "execution_count": 28,
   "metadata": {},
   "outputs": [
    {
     "name": "stdout",
     "output_type": "stream",
     "text": [
      "Program menghitung Volume dan Luas Permukaan Tabung\n",
      "masukan alas :5\n",
      "masukan tinggi :7\n",
      "masukan sisi :8\n",
      "Pilih menu dengan memasukan angka :\n",
      " 1. Hitung Volume \n",
      " 2. Hitung Luas Pemukaan\n",
      "2\n",
      "luas permukaan tabung adalah 203.0\n"
     ]
    }
   ],
   "source": [
    "print(\"Program menghitung Volume dan Luas Permukaan Tabung\")\n",
    "phi = 3.14\n",
    "alas = float(input(\"masukan alas :\"))\n",
    "tinggi = float(input(\"masukan tinggi :\"))\n",
    "sisi = float(input(\"masukan sisi :\"))\n",
    "pilihan = input(\"Pilih menu dengan memasukan angka :\\n 1. Hitung Volume \\n 2. Hitung Luas Pemukaan\\n\")\n",
    "if pilihan == \"1\":\n",
    "    volume = ((alas*tinggi)/2)*tinggi\n",
    "    print(\"volume tabung adalah\", volume)\n",
    "elif pilihan  == \"2\":\n",
    "    luasalas = 1/2*alas*tinggi\n",
    "    kelilingalas = 3*sisi\n",
    "    luaspermukaan = (2*luasalas) + (kelilingalas*tinggi)\n",
    "    print(\"luas permukaan tabung adalah\", luaspermukaan)\n",
    "else:\n",
    "    print(\"Terima kasih\")"
   ]
  },
  {
   "cell_type": "code",
   "execution_count": null,
   "metadata": {},
   "outputs": [],
   "source": []
  }
 ],
 "metadata": {
  "kernelspec": {
   "display_name": "Python 3",
   "language": "python",
   "name": "python3"
  },
  "language_info": {
   "codemirror_mode": {
    "name": "ipython",
    "version": 3
   },
   "file_extension": ".py",
   "mimetype": "text/x-python",
   "name": "python",
   "nbconvert_exporter": "python",
   "pygments_lexer": "ipython3",
   "version": "3.8.3"
  }
 },
 "nbformat": 4,
 "nbformat_minor": 4
}
