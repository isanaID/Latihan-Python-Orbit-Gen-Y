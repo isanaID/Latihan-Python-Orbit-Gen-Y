{
 "cells": [
  {
   "cell_type": "markdown",
   "metadata": {
    "id": "view-in-github"
   },
   "source": [
    "<a href=\"https://colab.research.google.com/github/dimmdimas/Orbit-AI-Gen-Y/blob/main/Latihan_2_Orbit_Gen_Y.ipynb\" target=\"_parent\"><img src=\"https://colab.research.google.com/assets/colab-badge.svg\" alt=\"Open In Colab\"/></a>"
   ]
  },
  {
   "cell_type": "markdown",
   "metadata": {
    "id": "nOrA516GCF0-"
   },
   "source": [
    "# **Aturan Penulisan Statement Pada *Basic Python***\n",
    "1. Penulisan satu statement di dalam Python tidak diakhiri dengan tanda titik-koma\n",
    "2. Statement pada Pyhton dinyatakan dalam satu baris. Jadi akhir dari sebuah pernyataan adalah baris baru (new line).\n",
    "3. Jika ada pernyataan yang panjangnya terdiri lebih dari 1 baris, maka dapat dilakukan dengan menggunakan tanda backslash (\\).\n",
    "4. Statement yang ada di dalam atau diapit oleh tanda kurung seperti \"[],{},()\" tidak memerlukan tanda \"\".\n",
    "5. Python menggunakan tanda indentasi (spasi) sebagai penanda blok. Panjang spasi atau indentasi untuk setiap baris yang ada dalam satu blok kode harus sama. Bila spasi atau indentasi dalam satu grup kode tersebut tidak sama, python akan menampilkan sintaks error.\n",
    "6. Sebagai penanda string, Python menggunakan tanda kutip, baik tunggal ('), maupun ganda(\"). Tanda kutip tiga(\"\"\") digunakan untuk string multibaris.\n",
    "7. Bahasa Python bersifat case sensitif, yang berarti membedakan huruf besar dan huruf kecil (memiliki nilai yang berbeda).\n",
    "8. Untuk komentar di awali dengan tanda \"#\" yang artinya tidak diproses sebagai statement code."
   ]
  },
  {
   "cell_type": "markdown",
   "metadata": {
    "id": "O0FZ4SmXCF1G"
   },
   "source": [
    "Aturan ke-1\n",
    "----\n",
    "Penulisan satu statement di dalam Python tidak diakhiri dengan tanda titik-koma"
   ]
  },
  {
   "cell_type": "code",
   "execution_count": null,
   "metadata": {
    "id": "0UwQvBSqCF1J",
    "outputId": "a6aa709a-232c-4303-8256-c9dd7cf45bba"
   },
   "outputs": [
    {
     "name": "stdout",
     "output_type": "stream",
     "text": [
      "Hello\n",
      "Dunia\n"
     ]
    }
   ],
   "source": [
    "print ('Hello')\n",
    "print (\"Dunia\")"
   ]
  },
  {
   "cell_type": "markdown",
   "metadata": {
    "id": "logVdIkuCF2M"
   },
   "source": [
    "Aturan ke-2\n",
    "----\n",
    "Statement pada Pyhton dinyatakan dalam satu baris. Jadi akhir dari sebuah pernyataan adalah baris baru (new line)."
   ]
  },
  {
   "cell_type": "code",
   "execution_count": null,
   "metadata": {
    "id": "mFhZhYqvCF2P",
    "outputId": "81b2c5ae-aca7-4ffb-8c93-344f22895918"
   },
   "outputs": [
    {
     "name": "stdout",
     "output_type": "stream",
     "text": [
      "Luas = panjang * lebar\n"
     ]
    }
   ],
   "source": [
    "print ('Luas = panjang * lebar')"
   ]
  },
  {
   "cell_type": "markdown",
   "metadata": {
    "id": "8mev9C71CF2T"
   },
   "source": [
    "Aturan ke-3\n",
    "----\n",
    "Jika ada pernyataan yang panjangnya terdiri lebih dari 1 baris, maka dapat dilakukan dengan menggunakan tanda backslash ( \\ ) "
   ]
  },
  {
   "cell_type": "code",
   "execution_count": null,
   "metadata": {
    "id": "mWPOsIHJCF2V",
    "outputId": "e7726fe6-396d-4555-e6e5-2e469029e87d"
   },
   "outputs": [
    {
     "name": "stdout",
     "output_type": "stream",
     "text": [
      "Volume = panjang * lebar *    tinggi\n"
     ]
    }
   ],
   "source": [
    "print ('Volume = panjang * lebar *\\\n",
    "    tinggi')"
   ]
  },
  {
   "cell_type": "markdown",
   "metadata": {
    "id": "66QXr6pwCF2g"
   },
   "source": [
    "Aturan ke-4\n",
    "----\n",
    "Statement yang ada di dalam atau diapit oleh tanda kurung seperti \"[],{},()\" tidak memerlukan tanda \"\""
   ]
  },
  {
   "cell_type": "code",
   "execution_count": null,
   "metadata": {
    "id": "vGl3h3rgCF2k",
    "outputId": "6e9ab50f-5a57-4368-8aed-52af4c0cc80f"
   },
   "outputs": [
    {
     "name": "stdout",
     "output_type": "stream",
     "text": [
      "['Senin', 'Selasa', 'Rabu', 'Kamis', 'Jum`at', 'Sabtu', 'Minggu']\n"
     ]
    }
   ],
   "source": [
    "nama_hari = ['Senin', 'Selasa', 'Rabu', 'Kamis', 'Jum`at', 'Sabtu', 'Minggu']\n",
    "\n",
    "print (nama_hari)"
   ]
  },
  {
   "cell_type": "markdown",
   "metadata": {
    "id": "UK_nNVdCCF2o"
   },
   "source": [
    "Aturan ke-5\n",
    "----\n",
    "Python menggunakan tanda indentasi (spasi) sebagai penanda blok. Panjang spasi atau indentasi untuk setiap baris yang ada dalam satu blok kode harus sama. Bila spasi atau indentasi dalam satu grup kode tersebut tidak sama, python akan menamplikan sintaks error\n"
   ]
  },
  {
   "cell_type": "code",
   "execution_count": null,
   "metadata": {
    "id": "fD3E48e3CF2p",
    "outputId": "68abddae-7a47-467e-d5c6-5a9d36fe689c"
   },
   "outputs": [
    {
     "name": "stdout",
     "output_type": "stream",
     "text": [
      "Belum cukup umur\n",
      "tunggu  13  tahun lagi\n"
     ]
    }
   ],
   "source": [
    "usia = 5\n",
    "\n",
    "if usia >= 18:\n",
    "    print('usia memenuhi syarat')\n",
    "    print('Dapat mengambil KTP')\n",
    "else:\n",
    "    print('Belum cukup umur')\n",
    "    print('tunggu ', 18 - usia, ' tahun lagi')"
   ]
  },
  {
   "cell_type": "markdown",
   "metadata": {
    "id": "gHzvMgWlCF2y"
   },
   "source": [
    "Aturan ke-6\n",
    "----\n",
    "Sebaga penanda string, Python menggunakan tanda kutip, baik tunggal ('), maupun ganda(\"). Tanda kutip tiga(\"\"\") digunakan untuk string multibaris."
   ]
  },
  {
   "cell_type": "code",
   "execution_count": null,
   "metadata": {
    "id": "1H7Zb3ubCF22",
    "outputId": "c4990a77-b735-4c4e-b335-59e7e669868b"
   },
   "outputs": [
    {
     "name": "stdout",
     "output_type": "stream",
     "text": [
      "Dimas\n",
      "Renaldi\n",
      "\"Berikut ini adalah alinea \n",
      "yang terdiri dari beberapa baris\n"
     ]
    }
   ],
   "source": [
    "namaDepan = 'Dimas'\n",
    "namaBelakang = \"Renaldi\"\n",
    "alinea = \"\"\"\"Berikut ini adalah alinea \n",
    "yang terdiri dari beberapa baris\"\"\"\n",
    "\n",
    "print (namaDepan)\n",
    "print (namaBelakang)\n",
    "print (alinea)"
   ]
  },
  {
   "cell_type": "markdown",
   "metadata": {
    "id": "5xZxL5PRCF24"
   },
   "source": [
    "Aturan ke-7\n",
    "----\n",
    "Bahasa Python bersifat case sensitif, yang berarti membedakan huruf besar dan huruf kecil (memiliki nilai yang berbeda)."
   ]
  },
  {
   "cell_type": "code",
   "execution_count": null,
   "metadata": {
    "id": "sGMceLeQCF27",
    "outputId": "2a738378-2a37-4e01-e620-1b0f5f8e3067"
   },
   "outputs": [
    {
     "name": "stdout",
     "output_type": "stream",
     "text": [
      "45\n",
      "75\n"
     ]
    }
   ],
   "source": [
    "luas1 = 15 * 3\n",
    "\n",
    "print (luas1)\n",
    "\n",
    "luas2 = 15 * 5\n",
    "#Print (luas2)\n",
    "#PRINT (luas2)\n",
    "print (luas2)"
   ]
  },
  {
   "cell_type": "markdown",
   "metadata": {
    "id": "cA8Chi4BCF29"
   },
   "source": [
    "Aturan ke-8\n",
    "----\n",
    "Untuk komentar di awali dengan tanda \"#\" yang artinya tidak diproses sebagai statement code."
   ]
  },
  {
   "cell_type": "code",
   "execution_count": null,
   "metadata": {
    "id": "bGoLgCpkCF2-",
    "outputId": "74c87645-80e2-405a-f303-6cc214b56e67"
   },
   "outputs": [
    {
     "name": "stdout",
     "output_type": "stream",
     "text": [
      "45\n"
     ]
    }
   ],
   "source": [
    "#panjang * lebar\n",
    "panjang = 15\n",
    "lebar = 3\n",
    "luas = panjang * lebar\n",
    "\n",
    "print (luas)"
   ]
  },
  {
   "cell_type": "markdown",
   "metadata": {
    "id": "fOZcbRxYCF2_"
   },
   "source": [
    "Nilai Prioritas Operator dalam Python – Part1\n",
    "---"
   ]
  },
  {
   "cell_type": "code",
   "execution_count": null,
   "metadata": {
    "id": "rkpfQ2Y4CF3J",
    "outputId": "90cc9dc9-4ad8-48f2-c2ec-9d5fd880c222"
   },
   "outputs": [
    {
     "name": "stdout",
     "output_type": "stream",
     "text": [
      "Harga bayar =  115500.0\n"
     ]
    }
   ],
   "source": [
    "total_harga     = 150000\n",
    "potongan_harga  = 0.3\n",
    "pajak           = 0.1\n",
    "\n",
    "harga_bayar     = (1 - potongan_harga) * total_harga\n",
    "\n",
    "harga_bayar += harga_bayar * pajak\n",
    "\n",
    "print ('Harga bayar = ', harga_bayar)"
   ]
  },
  {
   "cell_type": "code",
   "execution_count": null,
   "metadata": {
    "id": "jBCmTopfCF4g",
    "outputId": "c19f795a-f3b1-4353-f153-c349e311d1bc"
   },
   "outputs": [
    {
     "name": "stdout",
     "output_type": "stream",
     "text": [
      "365200.00000000006\n"
     ]
    }
   ],
   "source": [
    "sepatu = {\n",
    "    'nama'      : 'Sepatu Niko',\n",
    "    'harga'     : 150000,\n",
    "    'diskon'    : 30000\n",
    "}\n",
    "\n",
    "baju = {\n",
    "    'nama'      : 'Baju Uniqlo',\n",
    "    'harga'     : 80000,\n",
    "    'diskon'    : 8000\n",
    "}\n",
    "\n",
    "celana = {\n",
    "    'nama'      : 'Celana Lepis',\n",
    "    'harga'     : 200000,\n",
    "    'diskon'    : 60000\n",
    "}\n",
    "\n",
    "harga_sepatu    = sepatu['harga'] - sepatu['diskon']\n",
    "harga_baju      = baju['harga'] - baju['diskon']\n",
    "harga_celana    = celana['harga'] - celana['diskon']\n",
    "\n",
    "total           = (harga_sepatu + harga_baju + harga_celana) * 1.1\n",
    "print (total)\n"
   ]
  },
  {
   "cell_type": "code",
   "execution_count": null,
   "metadata": {
    "id": "E81Ds3niCF4h",
    "outputId": "73259516-102f-48c9-ade1-10a65ce4db42"
   },
   "outputs": [
    {
     "name": "stdout",
     "output_type": "stream",
     "text": [
      "Tagihan Kepada\n",
      "Mr.Yoyo\n",
      "Selamat pagi  Mr.Yoyo , anda harus membayar tagihan sebesar :  60000000\n"
     ]
    }
   ],
   "source": [
    "tagihan_ke = 'Mr.Yoyo'\n",
    "\n",
    "warehousing = {\n",
    "    'harga_harian'  : 1000000,\n",
    "    'total_hari'    : 15\n",
    "}\n",
    "\n",
    "cleansing = {\n",
    "    'harga_harian'  : 1500000,\n",
    "    'total_hari'    : 10\n",
    "}\n",
    "\n",
    "integration = {\n",
    "    'harga_harian'  : 2000000,\n",
    "    'total_hari'    : 15\n",
    "}\n",
    "\n",
    "transform = {\n",
    "    'harga_harian'  : 2500000,\n",
    "    'total_hari'    : 10\n",
    "}\n",
    "\n",
    "sub_warehousing = warehousing['harga_harian'] * warehousing['total_hari']\n",
    "sub_cleansing   = cleansing['harga_harian'] * cleansing['total_hari']\n",
    "sub_integration = integration['harga_harian'] * integration['total_hari']\n",
    "\n",
    "total = sub_cleansing + sub_integration + sub_warehousing\n",
    "\n",
    "print (\"Tagihan Kepada\")\n",
    "print (tagihan_ke)\n",
    "print ('Selamat pagi ', tagihan_ke, ', anda harus membayar tagihan sebesar : ', total)"
   ]
  },
  {
   "cell_type": "markdown",
   "metadata": {
    "id": "BdSDimVsCF4j"
   },
   "source": [
    "Python while loops – Part1\n",
    "--"
   ]
  },
  {
   "cell_type": "code",
   "execution_count": null,
   "metadata": {
    "id": "Okxw9F2pCF4n",
    "outputId": "cf7622db-4da2-46e8-8f67-8d761110c5c5"
   },
   "outputs": [
    {
     "name": "stdout",
     "output_type": "stream",
     "text": [
      "750000\n",
      "750000\n"
     ]
    }
   ],
   "source": [
    "tagihan = [50000, 75000, 125000, 300000, 200000]\n",
    "\n",
    "#tanpa while \n",
    "\n",
    "total = tagihan[0] + tagihan[1] + tagihan[2] + tagihan[3] + tagihan[4]\n",
    "print (total)\n",
    "\n",
    "#while \n",
    "\n",
    "i = 0\n",
    "jumlah_tagihan = len(tagihan)\n",
    "total = 0\n",
    "\n",
    "while i < jumlah_tagihan:\n",
    "    total += tagihan[i]\n",
    "    i += 1\n",
    "\n",
    "print(total)"
   ]
  },
  {
   "cell_type": "markdown",
   "metadata": {
    "id": "77pqRNH3CF4r"
   },
   "source": [
    "Python while loops – Part2\n",
    "--"
   ]
  },
  {
   "cell_type": "code",
   "execution_count": null,
   "metadata": {
    "id": "ot1EVEGdCF4s",
    "outputId": "70972b03-6a6c-44e8-9086-73c16eef1f17"
   },
   "outputs": [
    {
     "name": "stdout",
     "output_type": "stream",
     "text": [
      "Terdapat nilai minus dalam tagihan\n",
      "125000\n"
     ]
    }
   ],
   "source": [
    "tagihan = [50000, 75000, -150000, 125000, 300000, -50000, 200000]\n",
    "\n",
    "i = 0\n",
    "jumlah_tagihan = len(tagihan)\n",
    "total = 0\n",
    "\n",
    "while i < jumlah_tagihan:\n",
    "    if tagihan[i] <-1:\n",
    "        print('Terdapat nilai minus dalam tagihan')\n",
    "        break\n",
    "    total += tagihan[i]\n",
    "    i += 1\n",
    "\n",
    "print(total)"
   ]
  },
  {
   "cell_type": "markdown",
   "metadata": {
    "id": "sle0kBl7CF4t"
   },
   "source": [
    "Python while loops – Part3\n",
    "---"
   ]
  },
  {
   "cell_type": "code",
   "execution_count": null,
   "metadata": {
    "id": "u2WfOpkwCF4v",
    "outputId": "56f4d072-4d30-4523-8332-230f41d30ad1"
   },
   "outputs": [
    {
     "name": "stdout",
     "output_type": "stream",
     "text": [
      "750000\n"
     ]
    }
   ],
   "source": [
    "tagihan = [50000, 75000, -150000, 125000, 300000, -50000, 200000]\n",
    "\n",
    "i = 0\n",
    "jumlah_tagihan = len(tagihan)\n",
    "total = 0\n",
    "\n",
    "while i < jumlah_tagihan:\n",
    "    if tagihan[i] < 0:\n",
    "        i += 1\n",
    "    total += tagihan[i]\n",
    "    i += 1\n",
    "\n",
    "print(total)"
   ]
  },
  {
   "cell_type": "markdown",
   "metadata": {
    "id": "I9LFKDhlCF4w"
   },
   "source": [
    "Python for loops – Part1\n",
    "-----"
   ]
  },
  {
   "cell_type": "code",
   "execution_count": null,
   "metadata": {
    "id": "VR1QMMlyCF4x",
    "outputId": "be9b0f0a-398e-44d9-92f5-9ed89ae8fa08"
   },
   "outputs": [
    {
     "name": "stdout",
     "output_type": "stream",
     "text": [
      "terdapat anka minus dalam tagihan\n",
      "125000\n"
     ]
    }
   ],
   "source": [
    "list_tagihan = [50000, 75000, -150000, 125000, 300000, -50000, 200000]\n",
    "\n",
    "total_tagihan = 0 \n",
    "\n",
    "for tagihan in list_tagihan:\n",
    "    if tagihan < 0:\n",
    "        print('terdapat anka minus dalam tagihan')\n",
    "        break\n",
    "    total_tagihan += tagihan\n",
    "\n",
    "print(total_tagihan)"
   ]
  },
  {
   "cell_type": "markdown",
   "metadata": {
    "id": "Rroae7mTCF40"
   },
   "source": [
    "Ekspedisi Pamanku\n",
    "---\n"
   ]
  },
  {
   "cell_type": "code",
   "execution_count": null,
   "metadata": {
    "id": "Bm9e2Dj3CF41",
    "outputId": "ed9d000b-1acb-4eaa-aea1-4a2776394e4c"
   },
   "outputs": [
    {
     "name": "stdout",
     "output_type": "stream",
     "text": [
      "189000000\n"
     ]
    }
   ],
   "source": [
    "uang            = 1500000\n",
    "jumlah_hari     = 31\n",
    "list_plat_nomor = [8993, 2198, 2501, 2735, 3772, 4837, 9151]\n",
    "\n",
    "kendaraan_genap     = 0\n",
    "kendaraan_ganjil    = 1\n",
    "\n",
    "for plat_nomor in list_plat_nomor:\n",
    "    if plat_nomor % 2 == 0:\n",
    "        kendaraan_genap += 1\n",
    "    else:\n",
    "        kendaraan_ganjil += 1\n",
    "\n",
    "i = 1\n",
    "total_pengeluaran = 0\n",
    "\n",
    "while i <= jumlah_hari:\n",
    "    if i % 2 == 0:\n",
    "        total_pengeluaran += (kendaraan_genap * uang)\n",
    "    else:\n",
    "        total_pengeluaran += (kendaraan_ganjil * uang)\n",
    "    i += 1\n",
    "\n",
    "print (total_pengeluaran)"
   ]
  }
 ],
 "metadata": {
  "colab": {
   "name": "Tugas2_Orbit_Gen_Y copy.ipynb",
   "provenance": []
  },
  "interpreter": {
   "hash": "aee8b7b246df8f9039afb4144a1f6fd8d2ca17a180786b69acc140d282b71a49"
  },
  "kernelspec": {
   "display_name": "Python 3",
   "language": "python",
   "name": "python3"
  },
  "language_info": {
   "codemirror_mode": {
    "name": "ipython",
    "version": 3
   },
   "file_extension": ".py",
   "mimetype": "text/x-python",
   "name": "python",
   "nbconvert_exporter": "python",
   "pygments_lexer": "ipython3",
   "version": "3.8.3"
  }
 },
 "nbformat": 4,
 "nbformat_minor": 1
}
